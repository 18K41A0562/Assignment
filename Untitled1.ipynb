{
  "nbformat": 4,
  "nbformat_minor": 0,
  "metadata": {
    "colab": {
      "name": "Untitled1.ipynb",
      "provenance": [],
      "collapsed_sections": [],
      "authorship_tag": "ABX9TyNGT6N4hehH0/KUghx6O+hp",
      "include_colab_link": true
    },
    "kernelspec": {
      "name": "python3",
      "display_name": "Python 3"
    }
  },
  "cells": [
    {
      "cell_type": "markdown",
      "metadata": {
        "id": "view-in-github",
        "colab_type": "text"
      },
      "source": [
        "<a href=\"https://colab.research.google.com/github/18K41A0562/Assignment/blob/master/Untitled1.ipynb\" target=\"_parent\"><img src=\"https://colab.research.google.com/assets/colab-badge.svg\" alt=\"Open In Colab\"/></a>"
      ]
    },
    {
      "cell_type": "code",
      "metadata": {
        "id": "3OsHXqS6O7yN",
        "colab_type": "code",
        "colab": {
          "base_uri": "https://localhost:8080/",
          "height": 85
        },
        "outputId": "f617a283-a766-4aea-ffd4-3dae34a15893"
      },
      "source": [
        "#1\n",
        "\n",
        "a = float(input(\"Enter length of 1st side:\"))  \n",
        "b = float(input(\"Enter length of 2nd side:\"))  \n",
        "c = float(input(\"Enter length of 3rd side:\")) \n",
        "if a+b>c:\n",
        "  s = (a+b+c)/2  \n",
        "  Area = ( s*(s-a)*(s-b)*(s-c) ) ** (0.5)\n",
        "  print(\"The area of the triangle:\",round(Area,3))  \n",
        "else:\n",
        "  print(\"The triangle is not possible\")"
      ],
      "execution_count": null,
      "outputs": [
        {
          "output_type": "stream",
          "text": [
            "Enter length of 1st side:1\n",
            "Enter length of 2nd side:5\n",
            "Enter length of 3rd side:12\n",
            "The triangle is not possible\n"
          ],
          "name": "stdout"
        }
      ]
    },
    {
      "cell_type": "code",
      "metadata": {
        "id": "2731VVa9QKHN",
        "colab_type": "code",
        "colab": {
          "base_uri": "https://localhost:8080/",
          "height": 51
        },
        "outputId": "eb4d5b0b-c41b-4542-a886-deaba971d5a5"
      },
      "source": [
        "#2\n",
        "\n",
        "st = input(\"Enter a string: \")\n",
        "if st == st[::-1] :\n",
        "    print(\"The Given string {} is a palindrome\".format(st))\n",
        "else:\n",
        "    print(\"The Given string {} is not a palindrome\".format(st))"
      ],
      "execution_count": null,
      "outputs": [
        {
          "output_type": "stream",
          "text": [
            "Enter a string: jarvis\n",
            "The Given string jarvis is not a palindrome\n"
          ],
          "name": "stdout"
        }
      ]
    },
    {
      "cell_type": "code",
      "metadata": {
        "id": "Fbjevn_ZQ1Fr",
        "colab_type": "code",
        "colab": {
          "base_uri": "https://localhost:8080/",
          "height": 51
        },
        "outputId": "bc6f8e03-0a10-4c49-d6d0-537372054d6f"
      },
      "source": [
        "#3\n",
        "\n",
        "y = int(input(\"Enter a year:\"))\n",
        "if y%4 == 0:\n",
        "    print(\"{} is leap year\".format(y))\n",
        "else:\n",
        "    print(\"{} is not a leap year\".format(y))"
      ],
      "execution_count": null,
      "outputs": [
        {
          "output_type": "stream",
          "text": [
            "Enter a year:2028\n",
            "2028 is leap year\n"
          ],
          "name": "stdout"
        }
      ]
    },
    {
      "cell_type": "code",
      "metadata": {
        "id": "3W2_Dpo-n6KL",
        "colab_type": "code",
        "colab": {
          "base_uri": "https://localhost:8080/",
          "height": 51
        },
        "outputId": "5210131b-b580-4159-8ecc-998ce1969854"
      },
      "source": [
        "#4\n",
        "\n",
        "s = input(\"Enter a string: \")\n",
        "print(s.replace(' ','-'))"
      ],
      "execution_count": null,
      "outputs": [
        {
          "output_type": "stream",
          "text": [
            "Enter a string: hi jarvis what are u up to?\n",
            "hi-jarvis-what-are-u-up-to?\n"
          ],
          "name": "stdout"
        }
      ]
    },
    {
      "cell_type": "code",
      "metadata": {
        "id": "cxSVYZ4JpmtV",
        "colab_type": "code",
        "colab": {
          "base_uri": "https://localhost:8080/",
          "height": 51
        },
        "outputId": "b829df8b-a324-4249-a84b-350dd6583a99"
      },
      "source": [
        "#5\n",
        "\n",
        "s = input(\"Enter a string: \")\n",
        "s = s.split(',')\n",
        "print(sorted(set(s)))"
      ],
      "execution_count": null,
      "outputs": [
        {
          "output_type": "stream",
          "text": [
            "Enter a string: orange,white,red,cyan,green,magenta,cyan,pink,white\n",
            "['cyan', 'green', 'magenta', 'orange', 'pink', 'red', 'white']\n"
          ],
          "name": "stdout"
        }
      ]
    },
    {
      "cell_type": "code",
      "metadata": {
        "id": "-kpmnNJGrfLz",
        "colab_type": "code",
        "colab": {
          "base_uri": "https://localhost:8080/",
          "height": 51
        },
        "outputId": "87c0c992-3cd4-41c2-8965-e25f6620ddc6"
      },
      "source": [
        "#6\n",
        "\n",
        "sal = int(input(\"Enter salary : \"))\n",
        "if sal<=250000:\n",
        "    t = (sal*0)\n",
        "elif sal>250000 and sal<=500000:\n",
        "    t = (sal*0.05)\n",
        "elif sal>500000 and sal<=750000:\n",
        "    t = (sal*0.1)\n",
        "elif sal>750000 and sal<=1000000:\n",
        "    t = (sal*0.15)\n",
        "elif sal>1000000 and sal<=1250000:\n",
        "    t = (sal*0.2)\n",
        "elif sal>1250000 and sal<=1500000:\n",
        "    t = (sal*0.25)\n",
        "else:\n",
        "    t = (sal*0.3)\n",
        "print(\"Tax is : \",t)"
      ],
      "execution_count": null,
      "outputs": [
        {
          "output_type": "stream",
          "text": [
            "Enter salary : 650000\n",
            "Tax is :  65000.0\n"
          ],
          "name": "stdout"
        }
      ]
    },
    {
      "cell_type": "code",
      "metadata": {
        "id": "Jtypy34-tAvW",
        "colab_type": "code",
        "colab": {
          "base_uri": "https://localhost:8080/",
          "height": 34
        },
        "outputId": "ed9751da-d10d-475f-b1f9-ef11827a011b"
      },
      "source": [
        "#7\n",
        "\n",
        "lis = ['23','72','36']\n",
        "s = \"\"\n",
        "s = s.join(lis)\n",
        "print(s)"
      ],
      "execution_count": null,
      "outputs": [
        {
          "output_type": "stream",
          "text": [
            "237236\n"
          ],
          "name": "stdout"
        }
      ]
    },
    {
      "cell_type": "code",
      "metadata": {
        "id": "q3atadAFtc1E",
        "colab_type": "code",
        "colab": {
          "base_uri": "https://localhost:8080/",
          "height": 102
        },
        "outputId": "478f0690-e26b-4ed3-d7ad-11352d527988"
      },
      "source": [
        "#8\n",
        "\n",
        "s1 = int(input(\"Enter number of Days: \"))\n",
        "s2 = int(input(\"Enter number of Hours: \"))\n",
        "s3 = int(input(\"Enter number of Minutes: \"))\n",
        "s4 = int(input(\"Enter number of Seconds: \"))\n",
        "seconds = s1*86400\n",
        "seconds = seconds + (s2*3600)\n",
        "seconds = seconds + (s3*60)\n",
        "seconds = seconds + s4\n",
        "print(\"Total number of seconds = \",(seconds))"
      ],
      "execution_count": null,
      "outputs": [
        {
          "output_type": "stream",
          "text": [
            "Enter number of Days: 3\n",
            "Enter number of Hours: 10\n",
            "Enter number of Minutes: 40\n",
            "Enter number of Seconds: 55\n",
            "Total number of seconds =  297655\n"
          ],
          "name": "stdout"
        }
      ]
    },
    {
      "cell_type": "code",
      "metadata": {
        "id": "gtKb9vKEvLnL",
        "colab_type": "code",
        "colab": {
          "base_uri": "https://localhost:8080/",
          "height": 51
        },
        "outputId": "0c37c981-2f56-4494-9231-706e9fa4639e"
      },
      "source": [
        "#9\n",
        "\n",
        "a,b,c = map(int, input(\"Enter any 3 digits: \").split())\n",
        "#b = int(input(\"Enter b number:\"))\n",
        "#c = int(input(\"Enter c number:\"))\n",
        "x = min(a,b,c)\n",
        "y = max(a,b,c)\n",
        "z = (a+b+c)-x-y\n",
        "print(\"Sorted order is:\",x,z,y)"
      ],
      "execution_count": null,
      "outputs": [
        {
          "output_type": "stream",
          "text": [
            "Enter any 3 digits: 9 1 6\n",
            "Sorted order is: 1 6 9\n"
          ],
          "name": "stdout"
        }
      ]
    },
    {
      "cell_type": "code",
      "metadata": {
        "id": "ovNELT90xSMT",
        "colab_type": "code",
        "colab": {
          "base_uri": "https://localhost:8080/",
          "height": 51
        },
        "outputId": "0483ab94-bd73-4806-b191-bf9ebaa0fddf"
      },
      "source": [
        "#10\n",
        "\n",
        "\n",
        "y = (input(\"Enter a year : \"))\n",
        "y = y.split(\"-\")\n",
        "yr = int(y[0])\n",
        "leap_year = False\n",
        "if yr%4 == 0:\n",
        "    leap_year = True\n",
        "\n",
        "month = int(y[1])\n",
        "if month in (1, 3, 5, 7, 8, 10, 12):\n",
        "    month_length = 31\n",
        "elif month == 2:\n",
        "    if leap_year:\n",
        "        month_length = 29\n",
        "    else:\n",
        "        month_length = 28\n",
        "else:\n",
        "    month_length = 30\n",
        "\n",
        "day = int(y[2])\n",
        "if day<month_length:\n",
        "    day += 1\n",
        "else:\n",
        "    day = 1\n",
        "    if month == 12:\n",
        "        month = 1\n",
        "        yr += 1\n",
        "    else:\n",
        "        month += 1\n",
        "print(\"The immediate successor is (YYYY-MM-DD) : %04d-%02d-%02d.\" %(yr,month,day))"
      ],
      "execution_count": null,
      "outputs": [
        {
          "output_type": "stream",
          "text": [
            "Enter a year : 2019-02-28\n",
            "The immediate successor is (YYYY-MM-DD) : 2019-03-01.\n"
          ],
          "name": "stdout"
        }
      ]
    },
    {
      "cell_type": "code",
      "metadata": {
        "id": "MkG4pKWb0jje",
        "colab_type": "code",
        "colab": {
          "base_uri": "https://localhost:8080/",
          "height": 34
        },
        "outputId": "fdfbf0d6-6d2e-46fd-82e9-c5c3bbd67fed"
      },
      "source": [
        "#11\n",
        "\n",
        "lis = [45,3,2,89,72,1,10,7]\n",
        "x=1\n",
        "for i in range(len(lis)):\n",
        "    x *= lis[i]\n",
        "print(x)"
      ],
      "execution_count": null,
      "outputs": [
        {
          "output_type": "stream",
          "text": [
            "121111200\n"
          ],
          "name": "stdout"
        }
      ]
    },
    {
      "cell_type": "code",
      "metadata": {
        "id": "EWnJiSQ-26P_",
        "colab_type": "code",
        "colab": {
          "base_uri": "https://localhost:8080/",
          "height": 34
        },
        "outputId": "e1821ab0-49e3-4067-d5ec-e5f65fc39c77"
      },
      "source": [
        "#12\n",
        "\n",
        "lis = [5,6,8,34,89,1]\n",
        "Out_list = []\n",
        "for i in range(len(lis)-1):\n",
        "    ld = lis[i] + lis[i+1]\n",
        "    Out_list.append(ld)\n",
        "print(\"Out_list=\", Out_list)"
      ],
      "execution_count": null,
      "outputs": [
        {
          "output_type": "stream",
          "text": [
            "Out_list= [11, 14, 42, 123, 90]\n"
          ],
          "name": "stdout"
        }
      ]
    },
    {
      "cell_type": "code",
      "metadata": {
        "id": "xHtD5XOg3dTm",
        "colab_type": "code",
        "colab": {
          "base_uri": "https://localhost:8080/",
          "height": 34
        },
        "outputId": "b699137f-6086-4510-c584-bf85b49871a2"
      },
      "source": [
        "#13\n",
        "\n",
        "tup = (5,6,8,3,9,1)\n",
        "Out_list = []\n",
        "Out_list.append(tup[0])\n",
        "for i in range(len(tup)-1):\n",
        "    p = Out_list[i] * tup[i+1]\n",
        "    Out_list.append(p)\n",
        "print(\"Out_list=\", Out_list)"
      ],
      "execution_count": null,
      "outputs": [
        {
          "output_type": "stream",
          "text": [
            "Out_list= [5, 30, 240, 720, 6480, 6480]\n"
          ],
          "name": "stdout"
        }
      ]
    },
    {
      "cell_type": "code",
      "metadata": {
        "id": "nMauVgZL31gG",
        "colab_type": "code",
        "colab": {
          "base_uri": "https://localhost:8080/",
          "height": 51
        },
        "outputId": "aea152a6-e3b3-4aea-97a2-d52ba61659c2"
      },
      "source": [
        "#14\n",
        "\n",
        "num = input(\"Enter a number: \")\n",
        "lis = []\n",
        "for i in range(len(num)):\n",
        "    lis.append(int(num[i]))\n",
        "print(lis)"
      ],
      "execution_count": null,
      "outputs": [
        {
          "output_type": "stream",
          "text": [
            "Enter a number: 298317\n",
            "[2, 9, 8, 3, 1, 7]\n"
          ],
          "name": "stdout"
        }
      ]
    },
    {
      "cell_type": "code",
      "metadata": {
        "id": "xivBStRE4deg",
        "colab_type": "code",
        "colab": {
          "base_uri": "https://localhost:8080/",
          "height": 51
        },
        "outputId": "2edc83f1-db7d-4354-893b-45b1879f4bd2"
      },
      "source": [
        "#15\n",
        "\n",
        "def longestpalindrome(s):\n",
        "    d = [[False for i in range(len(s))] for i in range(len(s))]\n",
        "    for i in range(len(s)):\n",
        "        d[i][i] = True\n",
        "    maxlen = 1\n",
        "    start = 0\n",
        "    for l in range(2,len(s)+1):\n",
        "        for i in range(len(s)-l+1):\n",
        "            end = i+l\n",
        "            if l == 2:\n",
        "                if s[i] == s[end-1]:\n",
        "                    d[i][end-1] = True\n",
        "                    maxlen = l\n",
        "                    start = i\n",
        "            else:\n",
        "                if s[i] == s[end-1] and d[i+1][end-2]:\n",
        "                    d[i][end-1] = True\n",
        "                    maxlen = l\n",
        "                    start = i\n",
        "    return s[start:start+maxlen]\n",
        "s = input(\"Enter a string : \")\n",
        "print(longestpalindrome(s))"
      ],
      "execution_count": null,
      "outputs": [
        {
          "output_type": "stream",
          "text": [
            "Enter a string : deefasjsafqwks\n",
            "fasjsaf\n"
          ],
          "name": "stdout"
        }
      ]
    },
    {
      "cell_type": "code",
      "metadata": {
        "id": "XGH0EOoQ841L",
        "colab_type": "code",
        "colab": {
          "base_uri": "https://localhost:8080/",
          "height": 136
        },
        "outputId": "5db3e95e-2c2d-4154-8cbc-831e6a239ad4"
      },
      "source": [
        "#16\n",
        "\n",
        "tr=int(input(\"Enter no.of attempts: \"))\n",
        "for i in range(tr):\n",
        "  A,B=input(\"Enter string A and string B: \").split()\n",
        "  if len(A)==10 and len(B)==5:\n",
        "    if B in A:\n",
        "      print(\"1\")\n",
        "    else:\n",
        "      print(\"0\")\n",
        "  else:\n",
        "    print(\"Invalid entry!!!!!\")"
      ],
      "execution_count": null,
      "outputs": [
        {
          "output_type": "stream",
          "text": [
            "Enter no.of attempts: 3\n",
            "Enter string A and string B: 1011101011 10110\n",
            "0\n",
            "Enter string A and string B: 1011010101 10101\n",
            "1\n",
            "Enter string A and string B: 101010101 10101\n",
            "Invalid entry!!!!!\n"
          ],
          "name": "stdout"
        }
      ]
    },
    {
      "cell_type": "code",
      "metadata": {
        "id": "PaIm6qFa-HVW",
        "colab_type": "code",
        "colab": {
          "base_uri": "https://localhost:8080/",
          "height": 102
        },
        "outputId": "7bf2f7c4-9517-4ce8-bd49-685360fcb393"
      },
      "source": [
        "#17\n",
        "\n",
        "def gcd(a,b):\n",
        "    if b == 0: \n",
        "        return a \n",
        "    return gcd(b,a%b) \n",
        "def countsteps(a,b,c): \n",
        "    v1 = b\n",
        "    v2 = 0\n",
        "    count = 1\n",
        "    while (v1 is not c) and (v2 is not c): \n",
        "        temp = min(v1,a-v2)\n",
        "        v2 += temp \n",
        "        v1 -= temp \n",
        "        count += 1\n",
        "        if (v2 == c) or (v1 == c): \n",
        "            break\n",
        "        if v1 == 0: \n",
        "            v1 = b \n",
        "            count += 1\n",
        "        if v2 == a: \n",
        "            v2 = 0\n",
        "            count += 1\n",
        "    return count \n",
        "def ispossible(a,b,c): \n",
        "    if a>b: \n",
        "        temp = a \n",
        "        a = b \n",
        "        b = temp \n",
        "    if c>b: \n",
        "        return -1\n",
        "    if (c%(gcd(b,a)) is not 0): \n",
        "        return -1\n",
        "    return(min(countsteps(b,a,c),countsteps(a,b,c)))\n",
        "\n",
        "\n",
        "tr=int(input(\"Enter no.of attempts(testcases) : \"))\n",
        "for i in range(tr):\n",
        "  a,b,c = map(int, input(\"Enter capacity of vessels a,b and c : \").split())\n",
        "  print(\"Minimum \",ispossible(a,b,c),\" number of steps required. \")"
      ],
      "execution_count": null,
      "outputs": [
        {
          "output_type": "stream",
          "text": [
            "Enter no.of attempts(testcases) : 2\n",
            "Enter capacity of vessels a,b and c : 44 12 15\n",
            "Minimum  -1  number of steps required. \n",
            "Enter capacity of vessels a,b and c : 22 3 2\n",
            "Minimum  16  number of steps required. \n"
          ],
          "name": "stdout"
        }
      ]
    }
  ]
}